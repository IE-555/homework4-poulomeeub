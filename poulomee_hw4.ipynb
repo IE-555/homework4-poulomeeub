{
 "cells": [
  {
   "cell_type": "markdown",
   "metadata": {},
   "source": [
    "# Homework 4: Data Visualization\n",
    "- **Name**:  Poulomee Roy\n",
    "- **UB Username**: poulomee\n",
    "- **UB Person Number**:  50541095"
   ]
  },
  {
   "cell_type": "markdown",
   "metadata": {},
   "source": [
    "--- \n",
    "## Part 1 - Generate Plots According to Specifications"
   ]
  },
  {
   "cell_type": "markdown",
   "metadata": {},
   "source": [
    "### Problem 1 - Scatter Plot with a Line"
   ]
  },
  {
   "cell_type": "code",
   "execution_count": null,
   "metadata": {},
   "outputs": [],
   "source": [
    "# Use \"Code\" cells to import libraries, \n",
    "# read .csv data, and \n",
    "# create your plots.\n",
    "# ..."
   ]
  },
  {
   "cell_type": "code",
   "execution_count": 1,
   "metadata": {},
   "outputs": [],
   "source": [
    "import pandas as pd\n",
    "import matplotlib.pyplot as plt\n",
    "import matplotlib.ticker as ticker\n",
    "import numpy as np\n",
    "import seaborn as sns"
   ]
  },
  {
   "cell_type": "code",
   "execution_count": 2,
   "metadata": {},
   "outputs": [
    {
     "data": {
      "text/html": [
       "<div>\n",
       "<style scoped>\n",
       "    .dataframe tbody tr th:only-of-type {\n",
       "        vertical-align: middle;\n",
       "    }\n",
       "\n",
       "    .dataframe tbody tr th {\n",
       "        vertical-align: top;\n",
       "    }\n",
       "\n",
       "    .dataframe thead th {\n",
       "        text-align: right;\n",
       "    }\n",
       "</style>\n",
       "<table border=\"1\" class=\"dataframe\">\n",
       "  <thead>\n",
       "    <tr style=\"text-align: right;\">\n",
       "      <th></th>\n",
       "      <th>% x</th>\n",
       "      <th>y</th>\n",
       "    </tr>\n",
       "  </thead>\n",
       "  <tbody>\n",
       "    <tr>\n",
       "      <th>0</th>\n",
       "      <td>95.954341</td>\n",
       "      <td>328.375777</td>\n",
       "    </tr>\n",
       "    <tr>\n",
       "      <th>1</th>\n",
       "      <td>60.162754</td>\n",
       "      <td>259.053445</td>\n",
       "    </tr>\n",
       "    <tr>\n",
       "      <th>2</th>\n",
       "      <td>52.754898</td>\n",
       "      <td>207.792989</td>\n",
       "    </tr>\n",
       "    <tr>\n",
       "      <th>3</th>\n",
       "      <td>88.034798</td>\n",
       "      <td>333.209632</td>\n",
       "    </tr>\n",
       "    <tr>\n",
       "      <th>4</th>\n",
       "      <td>80.271275</td>\n",
       "      <td>290.042475</td>\n",
       "    </tr>\n",
       "  </tbody>\n",
       "</table>\n",
       "</div>"
      ],
      "text/plain": [
       "         % x          y \n",
       "0  95.954341  328.375777\n",
       "1  60.162754  259.053445\n",
       "2  52.754898  207.792989\n",
       "3  88.034798  333.209632\n",
       "4  80.271275  290.042475"
      ]
     },
     "execution_count": 2,
     "metadata": {},
     "output_type": "execute_result"
    }
   ],
   "source": [
    "# raed scatter data.csv\n",
    "df = pd.read_csv('scatter_data.csv')\n",
    "df.head()"
   ]
  },
  {
   "cell_type": "code",
   "execution_count": 3,
   "metadata": {},
   "outputs": [
    {
     "data": {
      "text/plain": [
       "(100, 2)"
      ]
     },
     "execution_count": 3,
     "metadata": {},
     "output_type": "execute_result"
    }
   ],
   "source": [
    "df.shape"
   ]
  },
  {
   "cell_type": "code",
   "execution_count": 4,
   "metadata": {},
   "outputs": [
    {
     "data": {
      "text/html": [
       "<div>\n",
       "<style scoped>\n",
       "    .dataframe tbody tr th:only-of-type {\n",
       "        vertical-align: middle;\n",
       "    }\n",
       "\n",
       "    .dataframe tbody tr th {\n",
       "        vertical-align: top;\n",
       "    }\n",
       "\n",
       "    .dataframe thead th {\n",
       "        text-align: right;\n",
       "    }\n",
       "</style>\n",
       "<table border=\"1\" class=\"dataframe\">\n",
       "  <thead>\n",
       "    <tr style=\"text-align: right;\">\n",
       "      <th></th>\n",
       "      <th>x</th>\n",
       "      <th>y</th>\n",
       "    </tr>\n",
       "  </thead>\n",
       "  <tbody>\n",
       "    <tr>\n",
       "      <th>0</th>\n",
       "      <td>95.954341</td>\n",
       "      <td>328.375777</td>\n",
       "    </tr>\n",
       "    <tr>\n",
       "      <th>1</th>\n",
       "      <td>60.162754</td>\n",
       "      <td>259.053445</td>\n",
       "    </tr>\n",
       "    <tr>\n",
       "      <th>2</th>\n",
       "      <td>52.754898</td>\n",
       "      <td>207.792989</td>\n",
       "    </tr>\n",
       "    <tr>\n",
       "      <th>3</th>\n",
       "      <td>88.034798</td>\n",
       "      <td>333.209632</td>\n",
       "    </tr>\n",
       "    <tr>\n",
       "      <th>4</th>\n",
       "      <td>80.271275</td>\n",
       "      <td>290.042475</td>\n",
       "    </tr>\n",
       "  </tbody>\n",
       "</table>\n",
       "</div>"
      ],
      "text/plain": [
       "           x           y\n",
       "0  95.954341  328.375777\n",
       "1  60.162754  259.053445\n",
       "2  52.754898  207.792989\n",
       "3  88.034798  333.209632\n",
       "4  80.271275  290.042475"
      ]
     },
     "execution_count": 4,
     "metadata": {},
     "output_type": "execute_result"
    }
   ],
   "source": [
    "# remove the percent sign (%) if appear in any row or column name, (which denotes a comment)\n",
    "df.columns = df.columns.str.replace('%', '')\n",
    "df.columns = df.columns.str.replace(' ', '')\n",
    "df.head()\n"
   ]
  },
  {
   "cell_type": "code",
   "execution_count": 5,
   "metadata": {},
   "outputs": [
    {
     "data": {
      "text/plain": [
       "Index(['x', 'y'], dtype='object')"
      ]
     },
     "execution_count": 5,
     "metadata": {},
     "output_type": "execute_result"
    }
   ],
   "source": [
    "df.columns"
   ]
  },
  {
   "cell_type": "code",
   "execution_count": 6,
   "metadata": {},
   "outputs": [
    {
     "data": {
      "text/plain": [
       "<matplotlib.legend.Legend at 0x1dbb83262d0>"
      ]
     },
     "execution_count": 6,
     "metadata": {},
     "output_type": "execute_result"
    },
    {
     "data": {
      "image/png": "[encoded data removed]",
      "text/plain": [
       "<Figure size 640x480 with 1 Axes>"
      ]
     },
     "metadata": {},
     "output_type": "display_data"
    }
   ],
   "source": [
    "# plot the data points as green triangles\n",
    "plt.plot(df['x'], df['y'], 'g^')\n",
    "\n",
    "# plot a line from the minimum x-value to the maximum x-value. The line should be dashed and colored red\n",
    "plt.plot([df['x'].min(), df['x'].max()], [df.loc[df['x'].idxmin(), 'y'], df.loc[df['x'].idxmax(), 'y']], 'r--')\n",
    "\n",
    "# include a title for your plot\n",
    "plt.title('Widget Measurements')\n",
    "\n",
    "# label the x- and y-axes\n",
    "plt.xlabel('x [inches]')\n",
    "plt.ylabel('y [inches]')\n",
    "\n",
    "# include a legend for your plot\n",
    "plt.legend(['observations', 'extreme x points'])\n"
   ]
  },
  {
   "cell_type": "markdown",
   "metadata": {},
   "source": [
    "### Problem 2 - Histogram"
   ]
  },
  {
   "cell_type": "code",
   "execution_count": 7,
   "metadata": {},
   "outputs": [
    {
     "data": {
      "text/html": [
       "<div>\n",
       "<style scoped>\n",
       "    .dataframe tbody tr th:only-of-type {\n",
       "        vertical-align: middle;\n",
       "    }\n",
       "\n",
       "    .dataframe tbody tr th {\n",
       "        vertical-align: top;\n",
       "    }\n",
       "\n",
       "    .dataframe thead th {\n",
       "        text-align: right;\n",
       "    }\n",
       "</style>\n",
       "<table border=\"1\" class=\"dataframe\">\n",
       "  <thead>\n",
       "    <tr style=\"text-align: right;\">\n",
       "      <th></th>\n",
       "      <th>student_id</th>\n",
       "      <th>average_score</th>\n",
       "    </tr>\n",
       "  </thead>\n",
       "  <tbody>\n",
       "    <tr>\n",
       "      <th>0</th>\n",
       "      <td>0</td>\n",
       "      <td>81.563259</td>\n",
       "    </tr>\n",
       "    <tr>\n",
       "      <th>1</th>\n",
       "      <td>1</td>\n",
       "      <td>67.426527</td>\n",
       "    </tr>\n",
       "    <tr>\n",
       "      <th>2</th>\n",
       "      <td>2</td>\n",
       "      <td>86.415197</td>\n",
       "    </tr>\n",
       "    <tr>\n",
       "      <th>3</th>\n",
       "      <td>3</td>\n",
       "      <td>80.387361</td>\n",
       "    </tr>\n",
       "    <tr>\n",
       "      <th>4</th>\n",
       "      <td>4</td>\n",
       "      <td>76.669249</td>\n",
       "    </tr>\n",
       "  </tbody>\n",
       "</table>\n",
       "</div>"
      ],
      "text/plain": [
       "   student_id  average_score\n",
       "0           0      81.563259\n",
       "1           1      67.426527\n",
       "2           2      86.415197\n",
       "3           3      80.387361\n",
       "4           4      76.669249"
      ]
     },
     "execution_count": 7,
     "metadata": {},
     "output_type": "execute_result"
    }
   ],
   "source": [
    "# read data student grades.csv\n",
    "# df = pd.read_csv('student_grades.csv')\n",
    "df = pd.read_csv('student_grades.csv', comment='%',\n",
    "                   names=['student_id', 'average_score'])\n",
    "df.head()"
   ]
  },
  {
   "cell_type": "code",
   "execution_count": 8,
   "metadata": {},
   "outputs": [
    {
     "data": {
      "text/plain": [
       "(75, 2)"
      ]
     },
     "execution_count": 8,
     "metadata": {},
     "output_type": "execute_result"
    }
   ],
   "source": [
    "df.shape"
   ]
  },
  {
   "cell_type": "code",
   "execution_count": 9,
   "metadata": {},
   "outputs": [],
   "source": [
    "# define bins and labels\n",
    "bins = [0, 60, 70, 80, 90, 100]\n",
    "labels = ['F', 'D', 'C', 'B', 'A']"
   ]
  },
  {
   "cell_type": "code",
   "execution_count": 11,
   "metadata": {},
   "outputs": [],
   "source": [
    "df['Grade'] = pd.cut(df['average_score'], bins=bins, labels=labels, right=False)"
   ]
  },
  {
   "cell_type": "code",
   "execution_count": 12,
   "metadata": {},
   "outputs": [
    {
     "data": {
      "text/html": [
       "<div>\n",
       "<style scoped>\n",
       "    .dataframe tbody tr th:only-of-type {\n",
       "        vertical-align: middle;\n",
       "    }\n",
       "\n",
       "    .dataframe tbody tr th {\n",
       "        vertical-align: top;\n",
       "    }\n",
       "\n",
       "    .dataframe thead th {\n",
       "        text-align: right;\n",
       "    }\n",
       "</style>\n",
       "<table border=\"1\" class=\"dataframe\">\n",
       "  <thead>\n",
       "    <tr style=\"text-align: right;\">\n",
       "      <th></th>\n",
       "      <th>student_id</th>\n",
       "      <th>average_score</th>\n",
       "      <th>Grade</th>\n",
       "    </tr>\n",
       "  </thead>\n",
       "  <tbody>\n",
       "    <tr>\n",
       "      <th>0</th>\n",
       "      <td>0</td>\n",
       "      <td>81.563259</td>\n",
       "      <td>B</td>\n",
       "    </tr>\n",
       "    <tr>\n",
       "      <th>1</th>\n",
       "      <td>1</td>\n",
       "      <td>67.426527</td>\n",
       "      <td>D</td>\n",
       "    </tr>\n",
       "    <tr>\n",
       "      <th>2</th>\n",
       "      <td>2</td>\n",
       "      <td>86.415197</td>\n",
       "      <td>B</td>\n",
       "    </tr>\n",
       "    <tr>\n",
       "      <th>3</th>\n",
       "      <td>3</td>\n",
       "      <td>80.387361</td>\n",
       "      <td>B</td>\n",
       "    </tr>\n",
       "    <tr>\n",
       "      <th>4</th>\n",
       "      <td>4</td>\n",
       "      <td>76.669249</td>\n",
       "      <td>C</td>\n",
       "    </tr>\n",
       "  </tbody>\n",
       "</table>\n",
       "</div>"
      ],
      "text/plain": [
       "   student_id  average_score Grade\n",
       "0           0      81.563259     B\n",
       "1           1      67.426527     D\n",
       "2           2      86.415197     B\n",
       "3           3      80.387361     B\n",
       "4           4      76.669249     C"
      ]
     },
     "execution_count": 12,
     "metadata": {},
     "output_type": "execute_result"
    }
   ],
   "source": [
    "df.head()"
   ]
  },
  {
   "cell_type": "code",
   "execution_count": 65,
   "metadata": {},
   "outputs": [
    {
     "data": {
      "text/plain": [
       "(75, 3)"
      ]
     },
     "execution_count": 65,
     "metadata": {},
     "output_type": "execute_result"
    }
   ],
   "source": [
    "df.shape"
   ]
  },
  {
   "cell_type": "code",
   "execution_count": 13,
   "metadata": {},
   "outputs": [
    {
     "data": {
      "text/html": [
       "<div>\n",
       "<style scoped>\n",
       "    .dataframe tbody tr th:only-of-type {\n",
       "        vertical-align: middle;\n",
       "    }\n",
       "\n",
       "    .dataframe tbody tr th {\n",
       "        vertical-align: top;\n",
       "    }\n",
       "\n",
       "    .dataframe thead th {\n",
       "        text-align: right;\n",
       "    }\n",
       "</style>\n",
       "<table border=\"1\" class=\"dataframe\">\n",
       "  <thead>\n",
       "    <tr style=\"text-align: right;\">\n",
       "      <th></th>\n",
       "      <th>student_id</th>\n",
       "      <th>average_score</th>\n",
       "      <th>Grade</th>\n",
       "    </tr>\n",
       "  </thead>\n",
       "  <tbody>\n",
       "    <tr>\n",
       "      <th>5</th>\n",
       "      <td>5</td>\n",
       "      <td>100.106000</td>\n",
       "      <td>NaN</td>\n",
       "    </tr>\n",
       "    <tr>\n",
       "      <th>6</th>\n",
       "      <td>6</td>\n",
       "      <td>107.756273</td>\n",
       "      <td>NaN</td>\n",
       "    </tr>\n",
       "    <tr>\n",
       "      <th>8</th>\n",
       "      <td>8</td>\n",
       "      <td>101.762623</td>\n",
       "      <td>NaN</td>\n",
       "    </tr>\n",
       "    <tr>\n",
       "      <th>74</th>\n",
       "      <td>74</td>\n",
       "      <td>100.021837</td>\n",
       "      <td>NaN</td>\n",
       "    </tr>\n",
       "  </tbody>\n",
       "</table>\n",
       "</div>"
      ],
      "text/plain": [
       "    student_id  average_score Grade\n",
       "5            5     100.106000   NaN\n",
       "6            6     107.756273   NaN\n",
       "8            8     101.762623   NaN\n",
       "74          74     100.021837   NaN"
      ]
     },
     "execution_count": 13,
     "metadata": {},
     "output_type": "execute_result"
    }
   ],
   "source": [
    "# check the rows if average_score > 100\n",
    "df[df['average_score'] > 100]"
   ]
  },
  {
   "cell_type": "code",
   "execution_count": 14,
   "metadata": {},
   "outputs": [
    {
     "data": {
      "text/html": [
       "<div>\n",
       "<style scoped>\n",
       "    .dataframe tbody tr th:only-of-type {\n",
       "        vertical-align: middle;\n",
       "    }\n",
       "\n",
       "    .dataframe tbody tr th {\n",
       "        vertical-align: top;\n",
       "    }\n",
       "\n",
       "    .dataframe thead th {\n",
       "        text-align: right;\n",
       "    }\n",
       "</style>\n",
       "<table border=\"1\" class=\"dataframe\">\n",
       "  <thead>\n",
       "    <tr style=\"text-align: right;\">\n",
       "      <th></th>\n",
       "      <th>student_id</th>\n",
       "      <th>average_score</th>\n",
       "      <th>Grade</th>\n",
       "    </tr>\n",
       "  </thead>\n",
       "  <tbody>\n",
       "  </tbody>\n",
       "</table>\n",
       "</div>"
      ],
      "text/plain": [
       "Empty DataFrame\n",
       "Columns: [student_id, average_score, Grade]\n",
       "Index: []"
      ]
     },
     "execution_count": 14,
     "metadata": {},
     "output_type": "execute_result"
    }
   ],
   "source": [
    "# check the rows if average_score < 0\n",
    "df[df['average_score'] < 0]"
   ]
  },
  {
   "cell_type": "code",
   "execution_count": 15,
   "metadata": {},
   "outputs": [
    {
     "data": {
      "text/plain": [
       "F     3\n",
       "D    14\n",
       "C    21\n",
       "B    28\n",
       "A     5\n",
       "Name: Grade, dtype: int64"
      ]
     },
     "execution_count": 15,
     "metadata": {},
     "output_type": "execute_result"
    }
   ],
   "source": [
    "df['Grade'].value_counts(sort=False)"
   ]
  },
  {
   "cell_type": "code",
   "execution_count": 16,
   "metadata": {},
   "outputs": [],
   "source": [
    "counts = df['Grade'].value_counts(sort=False)"
   ]
  },
  {
   "cell_type": "code",
   "execution_count": 17,
   "metadata": {},
   "outputs": [
    {
     "data": {
      "image/png": "[encoded data removed]",
      "text/plain": [
       "<Figure size 640x480 with 1 Axes>"
      ]
     },
     "metadata": {},
     "output_type": "display_data"
    }
   ],
   "source": [
    "# histogram without sorting\n",
    "bars = plt.bar(counts.index, counts.values, color='orange', edgecolor='black')\n",
    "\n",
    "# add counts above each bar\n",
    "for bar in bars:\n",
    "    yval = bar.get_height()\n",
    "    plt.text(bar.get_x() + bar.get_width() / 2, yval, round(yval, 2),  ha='center')\n",
    "\n",
    "# # customize the x-axis labels\n",
    "# plt.xticks(range(len(labels)), labels)\n",
    "\n",
    "plt.xlabel('Grade')\n",
    "plt.ylabel('Count')\n",
    "plt.title('Grade Distribution')\n",
    "\n",
    "plt.show()"
   ]
  },
  {
   "cell_type": "markdown",
   "metadata": {},
   "source": [
    "### Problem 3 - Barplot and Boxplot in the Same Figure"
   ]
  },
  {
   "cell_type": "code",
   "execution_count": 18,
   "metadata": {},
   "outputs": [
    {
     "data": {
      "text/html": [
       "<div>\n",
       "<style scoped>\n",
       "    .dataframe tbody tr th:only-of-type {\n",
       "        vertical-align: middle;\n",
       "    }\n",
       "\n",
       "    .dataframe tbody tr th {\n",
       "        vertical-align: top;\n",
       "    }\n",
       "\n",
       "    .dataframe thead th {\n",
       "        text-align: right;\n",
       "    }\n",
       "</style>\n",
       "<table border=\"1\" class=\"dataframe\">\n",
       "  <thead>\n",
       "    <tr style=\"text-align: right;\">\n",
       "      <th></th>\n",
       "      <th>Problem</th>\n",
       "      <th>SolnMethod</th>\n",
       "      <th>Value</th>\n",
       "    </tr>\n",
       "  </thead>\n",
       "  <tbody>\n",
       "    <tr>\n",
       "      <th>0</th>\n",
       "      <td>0</td>\n",
       "      <td>genetic algorithm</td>\n",
       "      <td>112.749860</td>\n",
       "    </tr>\n",
       "    <tr>\n",
       "      <th>1</th>\n",
       "      <td>0</td>\n",
       "      <td>simulated annealing</td>\n",
       "      <td>75.220917</td>\n",
       "    </tr>\n",
       "    <tr>\n",
       "      <th>2</th>\n",
       "      <td>0</td>\n",
       "      <td>tabu search</td>\n",
       "      <td>111.574225</td>\n",
       "    </tr>\n",
       "    <tr>\n",
       "      <th>3</th>\n",
       "      <td>0</td>\n",
       "      <td>optimal</td>\n",
       "      <td>166.170172</td>\n",
       "    </tr>\n",
       "    <tr>\n",
       "      <th>4</th>\n",
       "      <td>1</td>\n",
       "      <td>genetic algorithm</td>\n",
       "      <td>31.819762</td>\n",
       "    </tr>\n",
       "  </tbody>\n",
       "</table>\n",
       "</div>"
      ],
      "text/plain": [
       "   Problem           SolnMethod       Value\n",
       "0        0    genetic algorithm  112.749860\n",
       "1        0  simulated annealing   75.220917\n",
       "2        0          tabu search  111.574225\n",
       "3        0              optimal  166.170172\n",
       "4        1    genetic algorithm   31.819762"
      ]
     },
     "execution_count": 18,
     "metadata": {},
     "output_type": "execute_result"
    }
   ],
   "source": [
    "import seaborn as sns\n",
    "\n",
    "# Reading the data from the CSV file, ignoring rows that begin with '%'\n",
    "df = pd.read_csv('solution_data.csv')\n",
    "df.columns = df.columns.str.replace('%', '')\n",
    "df.columns = df.columns.str.replace(' ', '')\n",
    "df.head()"
   ]
  },
  {
   "cell_type": "code",
   "execution_count": 19,
   "metadata": {},
   "outputs": [
    {
     "data": {
      "text/plain": [
       "Index(['Problem', 'SolnMethod', 'Value'], dtype='object')"
      ]
     },
     "execution_count": 19,
     "metadata": {},
     "output_type": "execute_result"
    }
   ],
   "source": [
    "df.columns"
   ]
  },
  {
   "cell_type": "code",
   "execution_count": 20,
   "metadata": {},
   "outputs": [
    {
     "data": {
      "text/html": [
       "<div>\n",
       "<style scoped>\n",
       "    .dataframe tbody tr th:only-of-type {\n",
       "        vertical-align: middle;\n",
       "    }\n",
       "\n",
       "    .dataframe tbody tr th {\n",
       "        vertical-align: top;\n",
       "    }\n",
       "\n",
       "    .dataframe thead th {\n",
       "        text-align: right;\n",
       "    }\n",
       "</style>\n",
       "<table border=\"1\" class=\"dataframe\">\n",
       "  <thead>\n",
       "    <tr style=\"text-align: right;\">\n",
       "      <th></th>\n",
       "      <th>Problem</th>\n",
       "      <th>SolnMethod</th>\n",
       "      <th>Value</th>\n",
       "    </tr>\n",
       "  </thead>\n",
       "  <tbody>\n",
       "    <tr>\n",
       "      <th>0</th>\n",
       "      <td>0</td>\n",
       "      <td>genetic algorithm</td>\n",
       "      <td>112.749860</td>\n",
       "    </tr>\n",
       "    <tr>\n",
       "      <th>1</th>\n",
       "      <td>0</td>\n",
       "      <td>simulated annealing</td>\n",
       "      <td>75.220917</td>\n",
       "    </tr>\n",
       "    <tr>\n",
       "      <th>2</th>\n",
       "      <td>0</td>\n",
       "      <td>tabu search</td>\n",
       "      <td>111.574225</td>\n",
       "    </tr>\n",
       "    <tr>\n",
       "      <th>3</th>\n",
       "      <td>0</td>\n",
       "      <td>optimal</td>\n",
       "      <td>166.170172</td>\n",
       "    </tr>\n",
       "    <tr>\n",
       "      <th>4</th>\n",
       "      <td>1</td>\n",
       "      <td>genetic algorithm</td>\n",
       "      <td>31.819762</td>\n",
       "    </tr>\n",
       "  </tbody>\n",
       "</table>\n",
       "</div>"
      ],
      "text/plain": [
       "   Problem           SolnMethod       Value\n",
       "0        0    genetic algorithm  112.749860\n",
       "1        0  simulated annealing   75.220917\n",
       "2        0          tabu search  111.574225\n",
       "3        0              optimal  166.170172\n",
       "4        1    genetic algorithm   31.819762"
      ]
     },
     "execution_count": 20,
     "metadata": {},
     "output_type": "execute_result"
    }
   ],
   "source": [
    "# Removing leading and trailing '|' from SolnMethod\n",
    "df['SolnMethod'] = df['SolnMethod'].str.strip('|')\n",
    "df.head()"
   ]
  },
  {
   "cell_type": "code",
   "execution_count": 27,
   "metadata": {},
   "outputs": [],
   "source": [
    "# df['OptimalOFV'] = None"
   ]
  },
  {
   "cell_type": "code",
   "execution_count": 9,
   "metadata": {},
   "outputs": [],
   "source": [
    "# # group by problem and get the value of SolnMethod with 'optimal' solution, then create a new column 'Optimal OFV' with\n",
    "# df['OptimalOFV'] = df.groupby('Problem')['Value'].transform('max')\n",
    "# df.head()"
   ]
  },
  {
   "cell_type": "code",
   "execution_count": 10,
   "metadata": {},
   "outputs": [],
   "source": [
    "# # Group by 'Problem' and iterate through each group\n",
    "# for name, group in df.groupby('Problem'):\n",
    "#     # find the 'Value' corresponding to 'optimal' in 'SolnMethod'\n",
    "#     optimal_value = group.loc[group['SolnMethod'] == 'optimal', 'Value'].values[0]\n",
    "#     # update the 'OptimalOFV' column for each row in the group\n",
    "#     df.loc[df['Problem'] == name, 'OptimalOFV'] = optimal_value"
   ]
  },
  {
   "cell_type": "code",
   "execution_count": 21,
   "metadata": {},
   "outputs": [],
   "source": [
    "# get the problem wise optimal value\n",
    "df['OptimalOFV'] = df.groupby('Problem')['Value'].transform(lambda x: x.loc[df['SolnMethod'] == 'optimal'].iloc[0])"
   ]
  },
  {
   "cell_type": "code",
   "execution_count": 29,
   "metadata": {},
   "outputs": [
    {
     "data": {
      "text/html": [
       "<div>\n",
       "<style scoped>\n",
       "    .dataframe tbody tr th:only-of-type {\n",
       "        vertical-align: middle;\n",
       "    }\n",
       "\n",
       "    .dataframe tbody tr th {\n",
       "        vertical-align: top;\n",
       "    }\n",
       "\n",
       "    .dataframe thead th {\n",
       "        text-align: right;\n",
       "    }\n",
       "</style>\n",
       "<table border=\"1\" class=\"dataframe\">\n",
       "  <thead>\n",
       "    <tr style=\"text-align: right;\">\n",
       "      <th></th>\n",
       "      <th>Problem</th>\n",
       "      <th>SolnMethod</th>\n",
       "      <th>Value</th>\n",
       "      <th>OptimalOFV</th>\n",
       "    </tr>\n",
       "  </thead>\n",
       "  <tbody>\n",
       "    <tr>\n",
       "      <th>0</th>\n",
       "      <td>0</td>\n",
       "      <td>genetic algorithm</td>\n",
       "      <td>112.749860</td>\n",
       "      <td>166.170172</td>\n",
       "    </tr>\n",
       "    <tr>\n",
       "      <th>1</th>\n",
       "      <td>0</td>\n",
       "      <td>simulated annealing</td>\n",
       "      <td>75.220917</td>\n",
       "      <td>166.170172</td>\n",
       "    </tr>\n",
       "    <tr>\n",
       "      <th>2</th>\n",
       "      <td>0</td>\n",
       "      <td>tabu search</td>\n",
       "      <td>111.574225</td>\n",
       "      <td>166.170172</td>\n",
       "    </tr>\n",
       "    <tr>\n",
       "      <th>3</th>\n",
       "      <td>0</td>\n",
       "      <td>optimal</td>\n",
       "      <td>166.170172</td>\n",
       "      <td>166.170172</td>\n",
       "    </tr>\n",
       "    <tr>\n",
       "      <th>4</th>\n",
       "      <td>1</td>\n",
       "      <td>genetic algorithm</td>\n",
       "      <td>31.819762</td>\n",
       "      <td>48.634470</td>\n",
       "    </tr>\n",
       "  </tbody>\n",
       "</table>\n",
       "</div>"
      ],
      "text/plain": [
       "   Problem           SolnMethod       Value  OptimalOFV\n",
       "0        0    genetic algorithm  112.749860  166.170172\n",
       "1        0  simulated annealing   75.220917  166.170172\n",
       "2        0          tabu search  111.574225  166.170172\n",
       "3        0              optimal  166.170172  166.170172\n",
       "4        1    genetic algorithm   31.819762   48.634470"
      ]
     },
     "execution_count": 29,
     "metadata": {},
     "output_type": "execute_result"
    }
   ],
   "source": [
    "df.head()"
   ]
  },
  {
   "cell_type": "code",
   "execution_count": 23,
   "metadata": {},
   "outputs": [],
   "source": [
    "# calculate the optimality gap for each heuristic\n",
    "df['optimality_gap'] = (df['OptimalOFV'] - df['Value']) / df['OptimalOFV'] * 100"
   ]
  },
  {
   "cell_type": "code",
   "execution_count": 31,
   "metadata": {},
   "outputs": [
    {
     "data": {
      "text/html": [
       "<div>\n",
       "<style scoped>\n",
       "    .dataframe tbody tr th:only-of-type {\n",
       "        vertical-align: middle;\n",
       "    }\n",
       "\n",
       "    .dataframe tbody tr th {\n",
       "        vertical-align: top;\n",
       "    }\n",
       "\n",
       "    .dataframe thead th {\n",
       "        text-align: right;\n",
       "    }\n",
       "</style>\n",
       "<table border=\"1\" class=\"dataframe\">\n",
       "  <thead>\n",
       "    <tr style=\"text-align: right;\">\n",
       "      <th></th>\n",
       "      <th>Problem</th>\n",
       "      <th>SolnMethod</th>\n",
       "      <th>Value</th>\n",
       "      <th>OptimalOFV</th>\n",
       "      <th>optimality_gap</th>\n",
       "    </tr>\n",
       "  </thead>\n",
       "  <tbody>\n",
       "    <tr>\n",
       "      <th>0</th>\n",
       "      <td>0</td>\n",
       "      <td>genetic algorithm</td>\n",
       "      <td>112.749860</td>\n",
       "      <td>166.170172</td>\n",
       "      <td>32.147955</td>\n",
       "    </tr>\n",
       "    <tr>\n",
       "      <th>1</th>\n",
       "      <td>0</td>\n",
       "      <td>simulated annealing</td>\n",
       "      <td>75.220917</td>\n",
       "      <td>166.170172</td>\n",
       "      <td>54.732600</td>\n",
       "    </tr>\n",
       "    <tr>\n",
       "      <th>2</th>\n",
       "      <td>0</td>\n",
       "      <td>tabu search</td>\n",
       "      <td>111.574225</td>\n",
       "      <td>166.170172</td>\n",
       "      <td>32.855444</td>\n",
       "    </tr>\n",
       "  </tbody>\n",
       "</table>\n",
       "</div>"
      ],
      "text/plain": [
       "   Problem           SolnMethod       Value  OptimalOFV  optimality_gap\n",
       "0        0    genetic algorithm  112.749860  166.170172       32.147955\n",
       "1        0  simulated annealing   75.220917  166.170172       54.732600\n",
       "2        0          tabu search  111.574225  166.170172       32.855444"
      ]
     },
     "execution_count": 31,
     "metadata": {},
     "output_type": "execute_result"
    }
   ],
   "source": [
    "# Filter data for specified heuristics\n",
    "filtered_df = df[df['SolnMethod'].isin(['genetic algorithm', 'simulated annealing', 'tabu search'])]\n",
    "filtered_df.head(3)"
   ]
  },
  {
   "cell_type": "code",
   "execution_count": 26,
   "metadata": {},
   "outputs": [
    {
     "data": {
      "image/png": "[encoded data removed]",
      "text/plain": [
       "<Figure size 1200x600 with 2 Axes>"
      ]
     },
     "metadata": {},
     "output_type": "display_data"
    }
   ],
   "source": [
    "# Create the figure and the subplots\n",
    "fig, axs = plt.subplots(1, 2, figsize=(12, 6))\n",
    "\n",
    "# Plot for the first subplot (bar plot)\n",
    "axs[0].bar(filtered_df['SolnMethod'].unique(), filtered_df.groupby('SolnMethod')['optimality_gap'].mean(), color='orange', edgecolor='black')\n",
    "axs[0].set_title('Mean Gaps')\n",
    "axs[0].set_xlabel('Heuristic Method')\n",
    "axs[0].set_ylabel('Optimality Gap (%)')\n",
    "axs[0].set_yticks(range(0, int(filtered_df['optimality_gap'].max()) + 10, 10))\n",
    "\n",
    "# Plot for the second subplot (box plot)\n",
    "axs[1].boxplot([filtered_df[filtered_df['SolnMethod'] == method]['optimality_gap'] for method in filtered_df['SolnMethod'].unique()], \n",
    "               labels=filtered_df['SolnMethod'].unique(), medianprops=dict(color='orange'))\n",
    "axs[1].set_title('Distribution of Gaps')\n",
    "axs[1].set_xlabel('Heuristic Method')\n",
    "axs[1].set_yticks(range(0, int(filtered_df['optimality_gap'].max()) + 10, 10))\n",
    "\n",
    "# Set the same y-axis scale for both subplots\n",
    "ylim = axs[1].get_ylim()\n",
    "axs[0].set_ylim(ylim)\n",
    "\n",
    "# Adjust layout\n",
    "plt.suptitle('Comparison of Optimality Gaps for Heuristics')\n",
    "plt.tight_layout()\n",
    "plt.show()\n"
   ]
  },
  {
   "cell_type": "code",
   "execution_count": null,
   "metadata": {},
   "outputs": [],
   "source": []
  },
  {
   "cell_type": "markdown",
   "metadata": {},
   "source": [
    "--- \n",
    "## Part 2 - Explore New Plot Types"
   ]
  },
  {
   "cell_type": "markdown",
   "metadata": {},
   "source": [
    "[In this space, provide a concise explanation of your plot.  The reader should be able to read this to learn what kind of plot you're about to create, what type of data you're going to plot, and why you believe it is wise to use this type of plot for this type of data.  (replace these instructions with your actual content, and remove the brackets)]"
   ]
  },
  {
   "cell_type": "markdown",
   "metadata": {},
   "source": [
    "- **URL of Example Code**:  https://seaborn.pydata.org/generated/seaborn.stripplot.html\n",
    "- **URL of Sample Data**:   https://www.kaggle.com/code/sanjanabasu/tips-dataset/input"
   ]
  },
  {
   "cell_type": "code",
   "execution_count": 9,
   "metadata": {},
   "outputs": [
    {
     "data": {
      "image/png": "[encoded data removed]",
      "text/plain": [
       "<Figure size 1000x600 with 1 Axes>"
      ]
     },
     "metadata": {},
     "output_type": "display_data"
    }
   ],
   "source": [
    "# Use \"Code\" cells to create your plots \n",
    "import pandas as pd\n",
    "import seaborn as sns\n",
    "import matplotlib.pyplot as plt\n",
    "\n",
    "# Load the MovieLens dataset (adjust the file path as needed)\n",
    "\n",
    "df2= pd.read_csv(\"tips.csv\")\n",
    "# data = sns.load_dataset(\"tips\")  # Replace with your actual data\n",
    "\n",
    "# Create a stripplot\n",
    "plt.figure(figsize=(10, 6))\n",
    "stripplot = sns.stripplot(\n",
    "    data=df2, x=\"day\", y=\"total_bill\", hue=\"time\",\n",
    "    dodge=True, alpha=0.25, zorder=1, legend=False\n",
    ")\n",
    "\n",
    "# Add labels to the plot\n",
    "plt.xlabel(\"Day of the Week\")\n",
    "plt.ylabel(\"Total Bill Amount\")\n",
    "\n",
    "# Show the plot\n",
    "plt.show()\n",
    "\n",
    "\n",
    "\n",
    "#Step 1: Import the necessary libraries\n",
    "#The code starts by importing two libraries: seaborn and matplotlib.pyplot. Seaborn is a Python library for generating statistical graphics, and matplotlib.pyplot is a Python plotting library.\n",
    "\n",
    "#Step 2: Load the dataset\n",
    "#The code then loads the MovieLens tips dataset into a Pandas DataFrame called df2. The file path to the dataset is specified as \"tips.csv\". If you are using a different dataset, you will need to change the file path accordingly.\n",
    "\n",
    "#Step 3: Create a stripplot\n",
    "#The code creates a stripplot using the sns.stripplot() function. A stripplot is a type of plot that shows the distribution of data along a single dimension. In this case, the stripplot shows the distribution of total bill amounts across different days of the week.\n",
    "#The following parameters are passed to the sns.stripplot() function:\n",
    "#data=df2: This specifies the DataFrame that contains the data to be plotted.\n",
    "#x=\"day\": This specifies the name of the column in the DataFrame that contains the x-axis data. In this case, the x-axis data is the day of the week.\n",
    "#y=\"total_bill\": This specifies the name of the column in the DataFrame that contains the y-axis data. In this case, the y-axis data is the total bill amount.\n",
    "#hue=\"time\": This specifies the name of the column in the DataFrame that contains the hue data. In this case, the hue data is the time of day (lunch or dinner).\n",
    "#dodge=True: This specifies that the dots should be dodged, so that they do not overlap.\n",
    "#alpha=0.25: This specifies the opacity of the dots.\n",
    "#zorder=1: This specifies the z-order of the dots.\n",
    "#legend=False: This specifies that the legend should not be displayed.\n",
    "#Step 4: Add labels to the plot\n",
    "#The code adds labels to the x-axis and y-axis of the plot using the plt.xlabel() and plt.ylabel() functions, respectively.\n",
    "#Step 5: Show the plot\n",
    "#The code displays the plot using the plt.show() function."
   ]
  },
  {
   "cell_type": "code",
   "execution_count": null,
   "metadata": {},
   "outputs": [],
   "source": [
    "# It's OK to break up your code into multiple cells."
   ]
  },
  {
   "cell_type": "code",
   "execution_count": 3,
   "metadata": {},
   "outputs": [],
   "source": [
    "# Explanation of code"
   ]
  },
  {
   "cell_type": "markdown",
   "metadata": {},
   "source": [
    "# Explanation of the plot:\n",
    "#The strip plot on tips data shows the distribution of total bill amounts across different days of the week. Each dot represents an individual tip, and the position of the dot on the x-axis corresponds to the day of the week. The jitter, or random offset, of the dots ensures that they do not overlap, even when there are multiple tips for the same day of the week.\n",
    "\n",
    "From the strip plot, we can observe that there are generally more tips on Fridays and Saturdays than on other days of the week. This is likely because people tend to dine out more frequently on the weekends. We can also see that there is a wider range of tip amounts on Fridays and Saturdays, suggesting that people are more likely to tip generously on these days.Only on Thursdays there is tips given for lunch as well, the orange denotes lunch tips and blue denotes dinner tips. For each day there are two strips where each point is denoting total bill and the density is denoting the dodging the line\n",
    "\n",
    "\n",
    "Overall, the strip plot provides a quick and easy way to visualize the distribution of tip amounts across different days of the week. It is a useful tool for identifying patterns and trends in the data."
   ]
  },
  {
   "cell_type": "code",
   "execution_count": 13,
   "metadata": {},
   "outputs": [
    {
     "data": {
      "text/plain": [
       "<Figure size 800x800 with 0 Axes>"
      ]
     },
     "metadata": {},
     "output_type": "display_data"
    },
    {
     "data": {
      "image/png": "[encoded data removed]",
      "text/plain": [
       "<Figure size 600x600 with 3 Axes>"
      ]
     },
     "metadata": {},
     "output_type": "display_data"
    }
   ],
   "source": [
    "#Alternative Hexbin plot on the same dataset\n",
    "# Link: https://seaborn.pydata.org/examples/hexbin_marginals.html\n",
    "\n",
    "plt.figure(figsize=(8, 8))\n",
    "sns.set(style=\"whitegrid\")\n",
    "sns.jointplot(x='total_bill', y='tip', data=df2, kind='hex', cmap='Blues', gridsize=20)\n",
    "plt.title('Hexbin Plot of Tips Dataset', fontsize=8)\n",
    "plt.show()\n",
    "\n",
    "#Explanation of the code:\n",
    "\n",
    "#The code is for creating a hexbin plot of the tips dataset using the Python libraries matplotlib and seaborn.\n",
    "\n",
    "#The first line, plt.figure(figsize=(8, 8)), creates a new figure with a width of 8 inches and a height of 8 inches.\n",
    "#The second line, sns.set(style=\"whitegrid\"), sets the seaborn style to \"whitegrid\". This style uses a white background with a grid overlay.\n",
    "#The third line, sns.jointplot(x='total_bill', y='tip', data=df2, kind='hex', cmap='Blues', gridsize=20), creates a hexbin plot of the total_bill and tip columns in the df2 dataframe. The kind='hex' argument specifies that the jointplot should be a hexbin plot. The cmap='Blues' argument specifies that the colormap for the hexbin plot should be the \"Blues\" colormap. The gridsize=20 argument specifies that the hexbin plot should have a grid size of 20.\n",
    "#The fourth line, plt.title('Hexbin Plot of Tips Dataset', fontsize=8), sets the title of the plot to \"Hexbin Plot of Tips Dataset\" and sets the font size of the title to 8.\n",
    "#The fifth line, plt.show(), displays the plot.\n",
    "#A hexbin plot is a type of scatter plot that uses hexagonal bins to represent the distribution of the data. The color of each bin represents the number of data points in that bin. Hexbin plots are useful for visualizing dense datasets, as they can help to identify patterns and trends in the data that would be difficult to see in a regular scatter plot.\n",
    "\n",
    "#Explanation of the graph\n",
    "#In the context of the tips dataset, the hexbin plot shows the relationship between the total bill amount and the tip amount. \n",
    "#The plot shows that there is a positive correlation between the two variables, meaning that customers with higher total bill amounts tend to give higher tips. \n",
    "#The plot also shows that there is a lot of variation in the tip amount, even for customers with similar total bill amounts.\n"
   ]
  },
  {
   "cell_type": "code",
   "execution_count": null,
   "metadata": {},
   "outputs": [],
   "source": []
  }
 ],
 "metadata": {
  "kernelspec": {
   "display_name": "Python 3 (ipykernel)",
   "language": "python",
   "name": "python3"
  },
  "language_info": {
   "codemirror_mode": {
    "name": "ipython",
    "version": 3
   },
   "file_extension": ".py",
   "mimetype": "text/x-python",
   "name": "python",
   "nbconvert_exporter": "python",
   "pygments_lexer": "ipython3",
   "version": "3.11.4"
  }
 },
 "nbformat": 4,
 "nbformat_minor": 2
}
